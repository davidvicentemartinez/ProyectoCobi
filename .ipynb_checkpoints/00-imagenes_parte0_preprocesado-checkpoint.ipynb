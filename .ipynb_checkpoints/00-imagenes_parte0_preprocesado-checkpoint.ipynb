{
 "cells": [
  {
   "cell_type": "markdown",
   "metadata": {
    "collapsed": true
   },
   "source": [
    "# Construcción de un modelo CNN con muy pocos datos: preprocesado"
   ]
  },
  {
   "cell_type": "code",
   "execution_count": null,
   "metadata": {},
   "outputs": [],
   "source": [
    "import glob\n",
    "import numpy as np\n",
    "from keras.preprocessing.image import load_img, img_to_array"
   ]
  },
  {
   "cell_type": "code",
   "execution_count": null,
   "metadata": {},
   "outputs": [],
   "source": [
    "def lee_imagenes_directorio(directorio, img_width=150, img_height=150, verbose=False):\n",
    "    X = []\n",
    "    ficheros = glob.glob(directorio + '/*')\n",
    "    if verbose:\n",
    "        print('Leyendo ficheros del directorio', directorio)\n",
    "    for i,f in enumerate(ficheros):\n",
    "        if verbose and ((i+1)%250 == 0):\n",
    "            print('Leyendo fichero numero', i+1)\n",
    "        img = load_img(f, target_size=(img_width, img_height))\n",
    "        X.append(img_to_array(img))\n",
    "    print(len(X), 'ficheros leidos')\n",
    "    return np.array(X)"
   ]
  },
  {
   "cell_type": "code",
   "execution_count": null,
   "metadata": {},
   "outputs": [],
   "source": [
    "def crea_fichero_npy(data_dir, img_width, img_height,\n",
    "                     nombre_fichero_X, nombre_fichero_y):\n",
    "    X_cats = lee_imagenes_directorio(data_dir + '/cats/',\n",
    "                                     verbose=True,\n",
    "                                     img_width=img_width,\n",
    "                                     img_height=img_height)\n",
    "    X_dogs = lee_imagenes_directorio(data_dir + '/dogs/',\n",
    "                                     verbose=True,\n",
    "                                     img_width=img_width,\n",
    "                                     img_height=img_height)\n",
    "    print(X_cats.shape)\n",
    "    print(X_dogs.shape)\n",
    "    print(X_dogs.min())\n",
    "    print(X_dogs.max())\n",
    "    X = np.vstack((X_dogs, X_cats)) / 255\n",
    "    y = np.array(len(X_dogs)*[1] + len(X_cats)*[0])\n",
    "    print(X.shape)\n",
    "    \n",
    "    aux = '_' + str(img_width) + 'x' + str(img_height) + '.npy'\n",
    "    print('escribiendo '+nombre_fichero_X+aux+'...')\n",
    "    np.save(nombre_fichero_X+aux, X)\n",
    "    np.save(nombre_fichero_y+'.npy', y)"
   ]
  },
  {
   "cell_type": "code",
   "execution_count": null,
   "metadata": {},
   "outputs": [],
   "source": [
    "# dimensions of our images.\n",
    "dimensions = [(150,150), (50,50), (20,20)]\n",
    "\n",
    "for img_width, img_height in dimensions:\n",
    "    crea_fichero_npy('small_data/train', img_width, img_height,\n",
    "                     'mi_Xtr', 'mi_ytr')\n",
    "    crea_fichero_npy('small_data/validation', img_width, img_height,\n",
    "                     'mi_Xva', 'mi_yva')\n",
    "    crea_fichero_npy('small_data/test0', img_width, img_height,\n",
    "                     'mi_Xte', 'mi_yte')\n",
    "\n",
    "    print(img_width, img_height)"
   ]
  },
  {
   "cell_type": "code",
   "execution_count": null,
   "metadata": {},
   "outputs": [],
   "source": []
  }
 ],
 "metadata": {
  "kernelspec": {
   "display_name": "Python 3",
   "language": "python",
   "name": "python3"
  },
  "language_info": {
   "codemirror_mode": {
    "name": "ipython",
    "version": 3
   },
   "file_extension": ".py",
   "mimetype": "text/x-python",
   "name": "python",
   "nbconvert_exporter": "python",
   "pygments_lexer": "ipython3",
   "version": "3.6.5"
  }
 },
 "nbformat": 4,
 "nbformat_minor": 2
}
